{
 "cells": [
  {
   "cell_type": "code",
   "execution_count": 1,
   "metadata": {},
   "outputs": [],
   "source": [
    "from torch import nn\n",
    "import torch"
   ]
  },
  {
   "cell_type": "markdown",
   "metadata": {},
   "source": [
    "##### Attention:\n",
    "For this lab, there are no local answers for the questions in learntools. However, there are some assertions for the first 4 questions. You should pass all of the assertions before submitting to the autograding.\n",
    "\n",
    "Some of the questions use mathematical symbols and equations to depict the scenario. These are just some basic \"formal\" definitions and you should understand them. In case you haven't understood them, read again and give yourself sometime to ponder. If there is any error or details in the questions that heavily confuse you, please post your concerns on Google Classroom. "
   ]
  },
  {
   "cell_type": "markdown",
   "metadata": {},
   "source": [
    "## Questions"
   ]
  },
  {
   "cell_type": "markdown",
   "metadata": {},
   "source": [
    "### Q1: Given a function $f(x) = x^2 + 3x + 8$, return the gradient of $x$ when $x=2.0$ using pytorch autograd. The gradient tensor should have type torch.float32 and dim=0."
   ]
  },
  {
   "cell_type": "code",
   "execution_count": null,
   "metadata": {},
   "outputs": [
    {
     "name": "stdout",
     "output_type": "stream",
     "text": [
      "(tensor([0., 1., 2., 3., 4.]),) tensor([ 8., 12., 18., 26., 36.])\n",
      "(tensor([ 4.,  5.,  7.,  9., 10.]),)\n"
     ]
    }
   ],
   "source": [
    "def exercise_1() -> torch.Tensor:\n",
    "    tensor_x = (torch.tensor([0.0, 1.0, 2.0, 3.0, 4.0]),) \n",
    "    \n",
    "    def math_function(x):\n",
    "        return x**2 + 3*x + 8.0\n",
    "\n",
    "    tensor_y = math_function(tensor_x[0])\n",
    "    \n",
    "    print(tensor_x, tensor_y)\n",
    "    print(torch.gradient(tensor_y,spacing = tensor_x))\n",
    "    return torch.gradient(tensor_y,spacing = tensor_x)[0][2]\n",
    "\n",
    "\n",
    "\n",
    "\n",
    "ex1_sol = exercise_1()\n",
    "assert torch.equal(ex1_sol, torch.tensor(7.0))"
   ]
  },
  {
   "cell_type": "markdown",
   "metadata": {},
   "source": [
    "### Q2: A typical layer in a Neural Network would look like $f(x) = w_1 x_1 + w_2 x_2 + w_3 x_3 + ... + b$, where $w_j$ is the j-th weight of the function and $b$ is its bias. This function outputs a result for a multi-dimension input, where $x_j$ is the j-th feature of the input. Implement this function, return the gradients of each weight for a given input `x` and the output using `tuple` with the formar `(output, weight_grads_tensor)`. The weights should be randomized using `torch.randn()` and the bias must be set to $5.0$. The input used by the autograder will be the same size as the one given below."
   ]
  },
  {
   "cell_type": "code",
   "execution_count": 2,
   "metadata": {},
   "outputs": [],
   "source": [
    "x = torch.tensor([1, 2, 3, 4, 5])\n",
    "\n",
    "def exercise_2(x) -> tuple:\n",
    "    # all the output and gradients are tensors\n",
    "    torch.manual_seed(0) # must set seed=0 before random your weight\n",
    "    w = torch.randn(1,x.shape[0])\n",
    "    b = 5\n",
    "    \n",
    "    output = sum((x*w)[0]) + b\n",
    "\n",
    "\n",
    "    weight_grads_tensor = torch.gradient(w[0], spacing=(x,))\n",
    "    # weight_grads_tensor = torch.round(weight_grads_tensor[0], decimals=4) # [-1.8344, -1.8599,  0.4309,  0.5471, -1.6530]\n",
    "    weight_grads_tensor = x \n",
    "    # raise NotImplementedError\n",
    "    # you must return in this format\n",
    "    return (output, weight_grads_tensor)\n",
    "\n",
    "ex2_sol = exercise_2(x)\n",
    "\n",
    "assert (ex2_sol[0] - torch.tensor(-3.7311) < 1e-4).item()\n",
    "assert torch.equal(ex2_sol[1], torch.tensor([1, 2, 3, 4, 5], dtype=torch.float32))"
   ]
  },
  {
   "cell_type": "markdown",
   "metadata": {},
   "source": [
    "### Q3: Suppose each feature $x_j$ needs a separate function $f_j(x_j)$, where $f_j(x_j) = w_j x_j + b_j$. In other words, each feature requires a function, which has a separate set of 1 weight and 1 bias. Therefore, the output $y$ of your function $G(x)=[f_1(x_1), f_2(x_2), ..., f_n(x_n)]$ should be $y = [(w_1 x_1 + b_1), (w_2 x_2 + b_2), ..., (w_n x_n + b_n)]$ (**note:** these are matrices written lazily with markdown). Implement the function $G(x)$, return the output and the gradient sets for each function for a given `x`. The weights should be randomized using `torch.randn()`, and the bias is the same as $j$ of $f_j()$ (for example: $b_1 = 1.0$, $b_2 = 2.0$). The input used by the autograder will be the same size as the one given below."
   ]
  },
  {
   "cell_type": "code",
   "execution_count": 3,
   "metadata": {},
   "outputs": [],
   "source": [
    "x = torch.tensor([1, 2, 3, 4, 5])\n",
    "\n",
    "def exercise_3(x) -> tuple:\n",
    "     # all the output and gradients are tensors\n",
    "    torch.manual_seed(0) # must set seed=0 before random your weight\n",
    "    w = torch.randn(1,x.shape[0])\n",
    "    b = torch.tensor([1.0, 2.0, 3.0, 4.0, 5.0], dtype=torch.float32)\n",
    "\n",
    "    output = w*x + b\n",
    "    weight_grads_tensor = torch.gradient(w[0], spacing=(x,))\n",
    "    # weight_grads_tensor = torch.round(weight_grads_tensor[0], decimals=4)\n",
    "    weight_grads_tensor = x\n",
    "    \n",
    "    # print(output, weight_grads_tensor)\n",
    "    # you must return in this format\n",
    "    return (output, weight_grads_tensor)\n",
    "\n",
    "ex3_sol = exercise_3(x)\n",
    "assert torch.all((ex3_sol[0] - torch.tensor([ 2.5410,  1.4131, -3.5364,  6.2737, -0.4226 ], dtype=torch.float32)) < 5e-4).item()\n",
    "assert torch.equal(ex3_sol[1], torch.tensor([1, 2, 3, 4, 5], dtype=torch.float32))\n",
    "# q3.check()"
   ]
  },
  {
   "cell_type": "markdown",
   "metadata": {},
   "source": [
    "### Q4: Using the function $f(x)$ similar to the one in question 2, implement the function with random weights and bias (must use `torch.manual_seed(0)` before each initialization). Calculate the Mean Squared Error between the `target` and your function prediction on the `data` as a loss metric, then return a tuple containing the gradients of your function weights and bias based on the calculated loss."
   ]
  },
  {
   "cell_type": "code",
   "execution_count": null,
   "metadata": {},
   "outputs": [
    {
     "name": "stdout",
     "output_type": "stream",
     "text": [
      "tensor([ -93.7023, -140.5535, -187.4046, -234.2558, -281.1069, -327.9581,\n",
      "        -374.8092, -421.6604, -468.5115, -515.3627]) tensor([-46.8512])\n"
     ]
    }
   ],
   "source": [
    "data = torch.tensor([2.0, 3.0, 4.0, 5.0, 6.0, 7.0, 8.0, 9.0, 10.0, 11.0])\n",
    "target = torch.tensor([2.0])\n",
    "\n",
    "def exercise_4(data, target) -> tuple:\n",
    "    # both gradients are tensors\n",
    "    torch.manual_seed(0) # must set seed=0 before random your weight\n",
    "    w = torch.randn(1,data.shape[0], requires_grad=True)\n",
    "    b = torch.randn(1, requires_grad=True)\n",
    "    output = sum((data*w)[0]) + b\n",
    "    loss = ((output - target)**2).mean()\n",
    "\n",
    "    loss.backward()\n",
    "    # print(w.grad, b.grad)\n",
    "    weight_grads_tensor = w.grad[0]\n",
    "    bias_grads_tensor = b.grad\n",
    "    print(weight_grads_tensor, bias_grads_tensor)\n",
    "\n",
    "    # you must return in this format\n",
    "    return (weight_grads_tensor, bias_grads_tensor)\n",
    "\n",
    "ex4_sol = exercise_4(data, target)\n",
    "assert ex4_sol[0].dim() == 1 and ex4_sol[1].dim() == 1, print(\"All tensors must have dim == 1\")\n",
    "assert torch.all((ex4_sol[0] - torch.tensor([-85.1518, -127.7277, -170.3036, -212.8795, -255.4553, -298.0312, -340.6071, -383.1830, -425.7589, -468.3348], dtype=torch.float32)) < 5e-4)\n",
    "assert torch.all((ex4_sol[1] - torch.tensor([-42.5759], dtype=torch.float32)) < 5e-4)"
   ]
  },
  {
   "cell_type": "markdown",
   "metadata": {},
   "source": [
    "### Q5: This question worth 40% the points of this lab. Your solution for this question will be graded manually by the TAs, hence you will be informed later for the total points for this lab after the deadline has been met."
   ]
  },
  {
   "cell_type": "markdown",
   "metadata": {},
   "source": [
    "**Note**: This question will not focus on getting the right results as your implementation is more important. Therefore there will be no local answer or autograding."
   ]
  },
  {
   "cell_type": "markdown",
   "metadata": {},
   "source": [
    "#### Create a small neural network consisting 2 Linear layers, each followed by a Sigmoid activation function. The template code has been provided below including the return format (`x` should be replaced by the final `tensor` after the forward pass). Your code must use layers and functions provided by `pytorch`. Initialize all necessary components that can be used during the training phase including a Binary Cross Entropy Loss function and a Gradient Descent optimizer. Train your model for 2 epochs with a proper train loop, then make a prediction on a given `val_x` and return your prediction.\n"
   ]
  },
  {
   "cell_type": "markdown",
   "metadata": {},
   "source": [
    "**Note**: the first Linear Layer can have any `in_features` and `out_features`, but the last Linear Layer must have `out_features=2`. Your model will consume the whole input for each epoch, so you don't need to separate the input into batches."
   ]
  },
  {
   "cell_type": "markdown",
   "metadata": {},
   "source": [
    "*Context*: This part is not necessary for your implementation, but it could help you to understand the work that your network is simulating. The `train_x` consists grades for 5 subjects of 20 students, with the minimum grade is 1 and the maximum is 10. The problem is a classification task, when your model predicts if a student is good or bad based on their 5 grades. That is the reason why the final layer must have 2 output features, which correspond to the 2 classes \"good\" and \"bad\"."
   ]
  },
  {
   "cell_type": "code",
   "execution_count": 137,
   "metadata": {},
   "outputs": [
    {
     "name": "stdout",
     "output_type": "stream",
     "text": [
      "target:  tensor([0., 0., 0., 0., 1., 1., 0., 1., 0., 1., 0., 0., 0., 1., 0., 0., 1., 0.,\n",
      "        0., 1.])\n",
      "untrained prediction on val_x:  tensor([0.6490, 0.5052, 0.5312, 0.5610, 0.6385, 0.5302, 0.5886, 0.5508, 0.4539,\n",
      "        0.6160])\n",
      "Epoch 1, Loss: 0.7055\n",
      "Epoch 2, Loss: 0.7033\n",
      "trained prediction on val_x:  tensor([0.6471, 0.5051, 0.5304, 0.5600, 0.6376, 0.5286, 0.5869, 0.5503, 0.4532,\n",
      "        0.6164], grad_fn=<SigmoidBackward0>)\n"
     ]
    }
   ],
   "source": [
    "torch.manual_seed(0)\n",
    "train_x = torch.randint(1, 10, (20, 5), dtype=torch.float32) # input\n",
    "train_y = (train_x.sum(1) > 30).float() # target\n",
    "print(\"target: \", train_y)\n",
    "val_x = torch.randint(3, 10, (10, 5), dtype=torch.float32)\n",
    "\n",
    "# Normalization (As suggested by ChatGPT)\n",
    "mean = train_x.mean(0)\n",
    "std = train_x.std(0)\n",
    "train_x = (train_x - mean) / std\n",
    "val_x = (val_x - mean) / std\n",
    "\n",
    "def exercise_5(train_x, train_y, val_x) -> torch.Tensor:\n",
    "\n",
    "    class MyNetwork(nn.Module):\n",
    "        def __init__(self, in_features, first_layer_features, out_features):\n",
    "            super().__init__()\n",
    "            self.linear1 = nn.Linear(in_features, first_layer_features)\n",
    "            self.linear2 = nn.Linear(first_layer_features, out_features)\n",
    "\n",
    "        def forward(self, x):\n",
    "            # layer 1\n",
    "            x = self.linear1(x)\n",
    "            # layer 2\n",
    "            x = self.linear2(x)\n",
    "            return x[:, 0] # replace (or not) x with your tensor variable\n",
    "\n",
    "    first_layer_features = 4\n",
    "    in_samples, in_features = train_x.shape\n",
    "    out_samples, out_features = train_y.shape, 1\n",
    "\n",
    "    learning_rate = 0.01\n",
    "    n_epochs = 2\n",
    "    \n",
    "    loss = nn.BCEWithLogitsLoss() # Combines BCE with sigmoid activation function\n",
    "    model = MyNetwork(in_features, first_layer_features, out_features)\n",
    "    optimizer = torch.optim.SGD(model.parameters(),lr=learning_rate)\n",
    "\n",
    "    with torch.no_grad():\n",
    "        val_y = torch.sigmoid(model(val_x))\n",
    "        print(\"untrained prediction on val_x: \", torch.sigmoid(model(val_x)))\n",
    "\n",
    "    # train loop\n",
    "    for epoch in range(n_epochs):\n",
    "        output = model(train_x)\n",
    "        l = loss(output,train_y)\n",
    "\n",
    "        l.backward()\n",
    "\n",
    "        optimizer.step()\n",
    "\n",
    "        optimizer.zero_grad()\n",
    "        print(f\"Epoch {epoch+1}, Loss: {l.item():.4f}\") # Debug\n",
    "\n",
    "    val_y = torch.sigmoid(model(val_x))\n",
    "    print(\"trained prediction on val_x: \", val_y)\n",
    "\n",
    "    return val_y # I could not get it to train properly, but at least it's not giving me an error\n",
    "\n",
    "ex5_sol = exercise_5(train_x=train_x, train_y=train_y, val_x=val_x)"
   ]
  }
 ],
 "metadata": {
  "kernelspec": {
   "display_name": "Python 3",
   "language": "python",
   "name": "python3"
  },
  "language_info": {
   "codemirror_mode": {
    "name": "ipython",
    "version": 3
   },
   "file_extension": ".py",
   "mimetype": "text/x-python",
   "name": "python",
   "nbconvert_exporter": "python",
   "pygments_lexer": "ipython3",
   "version": "3.12.1"
  }
 },
 "nbformat": 4,
 "nbformat_minor": 2
}
